{
 "cells": [
  {
   "cell_type": "markdown",
   "metadata": {
    "colab_type": "text",
    "id": "CrFTR20wVUhb"
   },
   "source": [
    "# randomizer\n",
    "\n",
    "The following `randomizer` class may look familiar to you. Below is its definition, followed by three examples of its use.\n",
    "\n",
    "Scan through this example, then continue on with the challenge. Don't bother trying to comprehend every line of the randomizer code,\n",
    "but make an effort to understand what each function creates based on its arguments, from the examples."
   ]
  },
  {
   "cell_type": "markdown",
   "metadata": {
    "colab_type": "text",
    "id": "il2t9d_5ToJj"
   },
   "source": [
    "Generate randomized datasets:"
   ]
  },
  {
   "cell_type": "code",
   "execution_count": 37,
   "metadata": {
    "colab": {
     "autoexec": {
      "startup": false,
      "wait_interval": 0
     }
    },
    "colab_type": "code",
    "id": "2tkwcjU7T9cJ"
   },
   "outputs": [],
   "source": [
    "import numpy as np\n",
    "import pandas as pd\n",
    "import matplotlib.pyplot as plt\n",
    "import seaborn as sns; sns.set()"
   ]
  },
  {
   "cell_type": "code",
   "execution_count": 42,
   "metadata": {
    "colab": {
     "autoexec": {
      "startup": false,
      "wait_interval": 0
     }
    },
    "colab_type": "code",
    "id": "yZD3NPMQTlE2"
   },
   "outputs": [],
   "source": [
    "####################\n",
    "# randomizer\n",
    "####################\n",
    "class randomizer():\n",
    "    def randomlinear(self,start = 0 ,numberofpoints=10,slope=1/2,noise=1.0):\n",
    "        x = np.arange(start,numberofpoints)\n",
    "        noisex = np.random.random(numberofpoints)*noise\n",
    "        noisey = np.random.random(numberofpoints)*noise\n",
    "        y = ((x+noisex*0.5)*slope)+noisey\n",
    "        permutation = np.random.permutation(numberofpoints)\n",
    "        return pd.DataFrame([x[permutation],y[permutation]])\n",
    "\n",
    "    def randompolynomial(self,numberofpoints=10,degree=2,noise=3.0):\n",
    "        x = np.arange(0,numberofpoints)\n",
    "        noisex = np.random.random(numberofpoints)*noise\n",
    "        noisey = np.random.random(numberofpoints)*noise\n",
    "        y = ((x+noisex)**degree)+noisey\n",
    "        permutation = np.random.permutation(numberofpoints)\n",
    "        return pd.DataFrame([x[permutation],y[permutation]])\n",
    "\n",
    "    def randomnormal(self,numberofpoints=10,mean=[0,0],cov=[[1,0],[0,1]]):\n",
    "        return pd.DataFrame(np.random.multivariate_normal(mean, cov, numberofpoints).T)\n",
    "randomizer = randomizer()"
   ]
  },
  {
   "cell_type": "markdown",
   "metadata": {
    "colab_type": "text",
    "id": "Tc1_Loj-WX-1"
   },
   "source": [
    "## randomizer.randomlinear"
   ]
  },
  {
   "cell_type": "code",
   "execution_count": 14,
   "metadata": {
    "colab": {
     "autoexec": {
      "startup": false,
      "wait_interval": 0
     },
     "base_uri": "https://localhost:8080/",
     "height": 364
    },
    "colab_type": "code",
    "executionInfo": {
     "elapsed": 839,
     "status": "ok",
     "timestamp": 1523544688681,
     "user": {
      "displayName": "Thomson Comer",
      "photoUrl": "//lh3.googleusercontent.com/-hRvYbetIaTQ/AAAAAAAAAAI/AAAAAAAAA-Y/3qwVN_a9SUE/s50-c-k-no/photo.jpg",
      "userId": "110444975313271508722"
     },
     "user_tz": 360
    },
    "id": "qI6jTaeJUijt",
    "outputId": "03386fce-2f61-48d4-f93d-e4d5c0d24891"
   },
   "outputs": [
    {
     "data": {
      "text/plain": [
       "[<matplotlib.lines.Line2D at 0x2382833f1d0>]"
      ]
     },
     "execution_count": 14,
     "metadata": {},
     "output_type": "execute_result"
    },
    {
     "data": {
      "image/png": "[encoded data removed]",
      "text/plain": [
       "<Figure size 432x288 with 1 Axes>"
      ]
     },
     "metadata": {},
     "output_type": "display_data"
    }
   ],
   "source": [
    "data = randomizer.randomlinear(numberofpoints=20,slope=3)\n",
    "plt.plot(data.iloc[0,:],data.iloc[1,:],'o')"
   ]
  },
  {
   "cell_type": "markdown",
   "metadata": {
    "colab_type": "text",
    "id": "CYjy9ByBWgyj"
   },
   "source": [
    "## randomizer.randompolynomial"
   ]
  },
  {
   "cell_type": "code",
   "execution_count": 15,
   "metadata": {
    "colab": {
     "autoexec": {
      "startup": false,
      "wait_interval": 0
     },
     "base_uri": "https://localhost:8080/",
     "height": 364
    },
    "colab_type": "code",
    "executionInfo": {
     "elapsed": 418,
     "status": "ok",
     "timestamp": 1523544896919,
     "user": {
      "displayName": "Thomson Comer",
      "photoUrl": "//lh3.googleusercontent.com/-hRvYbetIaTQ/AAAAAAAAAAI/AAAAAAAAA-Y/3qwVN_a9SUE/s50-c-k-no/photo.jpg",
      "userId": "110444975313271508722"
     },
     "user_tz": 360
    },
    "id": "VWJIXYmUVjqd",
    "outputId": "bbc2e4c5-1a68-41d1-9c59-e2f48f39a0ab"
   },
   "outputs": [
    {
     "data": {
      "text/plain": [
       "[<matplotlib.lines.Line2D at 0x238283dacc0>]"
      ]
     },
     "execution_count": 15,
     "metadata": {},
     "output_type": "execute_result"
    },
    {
     "data": {
      "image/png": "[encoded data removed]",
      "text/plain": [
       "<Figure size 432x288 with 1 Axes>"
      ]
     },
     "metadata": {},
     "output_type": "display_data"
    }
   ],
   "source": [
    "data = randomizer.randompolynomial(numberofpoints=200)\n",
    "plt.plot(data.iloc[0,:],data.iloc[1,:],'o')"
   ]
  },
  {
   "cell_type": "markdown",
   "metadata": {
    "colab_type": "text",
    "id": "9K2vfNSSWj_m"
   },
   "source": [
    "## randomizer.randomnormal"
   ]
  },
  {
   "cell_type": "code",
   "execution_count": 16,
   "metadata": {
    "colab": {
     "autoexec": {
      "startup": false,
      "wait_interval": 0
     },
     "base_uri": "https://localhost:8080/",
     "height": 364
    },
    "colab_type": "code",
    "executionInfo": {
     "elapsed": 408,
     "status": "ok",
     "timestamp": 1523544911084,
     "user": {
      "displayName": "Thomson Comer",
      "photoUrl": "//lh3.googleusercontent.com/-hRvYbetIaTQ/AAAAAAAAAAI/AAAAAAAAA-Y/3qwVN_a9SUE/s50-c-k-no/photo.jpg",
      "userId": "110444975313271508722"
     },
     "user_tz": 360
    },
    "id": "I9XF5U3vUmN1",
    "outputId": "b90beaa2-7e88-4b2e-d78d-e445497334e0"
   },
   "outputs": [
    {
     "data": {
      "text/plain": [
       "[<matplotlib.lines.Line2D at 0x23828447b38>]"
      ]
     },
     "execution_count": 16,
     "metadata": {},
     "output_type": "execute_result"
    },
    {
     "data": {
      "image/png": "[encoded data removed]",
      "text/plain": [
       "<Figure size 432x288 with 1 Axes>"
      ]
     },
     "metadata": {},
     "output_type": "display_data"
    }
   ],
   "source": [
    "data = randomizer.randomnormal(numberofpoints=200,mean=[0,0],cov=[[1,0],[0,1]])\n",
    "plt.plot(data.iloc[0,:],data.iloc[1,:],'o')"
   ]
  },
  {
   "cell_type": "markdown",
   "metadata": {
    "colab_type": "text",
    "id": "hmOGJvjTWoHT"
   },
   "source": [
    "# Coding Challenge\n",
    "\n",
    "Use `randomizer` to create three datasets:\n",
    "\n",
    "* two normal distributions $a$ and $b$\n",
    "* a linear or polynomial dataset $s$ that draws a line between $a$ and $b$ such that all $a$ are one one side of $s$ and all $b$ are on the other.\n",
    "\n",
    "The primary concerns here are the `mean` of the normal distributions as this determines their centroid, where the points are located, and the slope and noise of the line $s$ that separates them. You can change the $y$ intercept of $s$ simply by adding [0,1]*b to it."
   ]
  },
  {
   "cell_type": "code",
   "execution_count": 52,
   "metadata": {
    "colab": {
     "autoexec": {
      "startup": false,
      "wait_interval": 0
     }
    },
    "colab_type": "code",
    "id": "w9J9C1xQXXiA"
   },
   "outputs": [
    {
     "data": {
      "image/png": "[encoded data removed]",
      "text/plain": [
       "<Figure size 432x288 with 1 Axes>"
      ]
     },
     "metadata": {},
     "output_type": "display_data"
    }
   ],
   "source": [
    "a = randomizer.randomnormal(numberofpoints=100,mean=[3,3],cov=[[1,0],[0,1]])\n",
    "b = randomizer.randomnormal(numberofpoints=100,mean=[-3,-3],cov=[[1,0],[0,1]])\n",
    "s = randomizer.randomlinear(start= 0,numberofpoints=10,slope=-1)\n",
    "\n",
    "plt.plot(a.iloc[0,:],a.iloc[1,:],'ro');\n",
    "plt.plot(b.iloc[0,:],b.iloc[1,:],'bo');\n",
    "plt.plot(s.iloc[0,:],s.iloc[1,:],'go');"
   ]
  },
  {
   "cell_type": "markdown",
   "metadata": {
    "colab_type": "text",
    "id": "0S8i6fcnXbV_"
   },
   "source": [
    "# Coding Challenge Part 2\n",
    "\n",
    "Now that you've plotted two sets of data (or clusters) and a line that perfectly separates them, create two new sets of data that can't be perfectly separated.\n",
    "The `cov` matrix to `randomnormal` determines how large the cloud of points is. If the two point clouds overlap, no linear function and most likely no polynomial function can separate them."
   ]
  },
  {
   "cell_type": "code",
   "execution_count": null,
   "metadata": {
    "colab": {
     "autoexec": {
      "startup": false,
      "wait_interval": 0
     }
    },
    "colab_type": "code",
    "id": "fJIhM48EXxNB"
   },
   "outputs": [],
   "source": [
    "# Create two datasets that can't be perfectly separated. Draw a line using randomlinear or randompolynomial that makes a best-attempt at separating them."
   ]
  },
  {
   "cell_type": "markdown",
   "metadata": {
    "colab_type": "text",
    "id": "5-xdejp1X449"
   },
   "source": [
    "## Clean up\n",
    "\n",
    "Go back and beautify your charts. Color the clusters so that they are easy to distinguish as separate groups. Customize your title, axes, x and y labels, and legend to create a compelling visual description.\n",
    "\n",
    "Use the following demo chart for some awesome techniques at writing great chart customizations:\n",
    "\n",
    "[Heavily Annotated Matplotlib Example](https://matplotlib.org/examples/showcase/anatomy.html)"
   ]
  }
 ],
 "metadata": {
  "colab": {
   "collapsed_sections": [],
   "default_view": {},
   "name": "Data Visualization Coding Challenge - Separating Clusters - Master.ipynb",
   "provenance": [
    {
     "file_id": "1X-BhgXRtO5uyLbwmWL105x607-9C0yqy",
     "timestamp": 1523544518631
    }
   ],
   "version": "0.3.2",
   "views": {}
  },
  "kernelspec": {
   "display_name": "Python 3",
   "language": "python",
   "name": "python3"
  },
  "language_info": {
   "codemirror_mode": {
    "name": "ipython",
    "version": 3
   },
   "file_extension": ".py",
   "mimetype": "text/x-python",
   "name": "python",
   "nbconvert_exporter": "python",
   "pygments_lexer": "ipython3",
   "version": "3.6.6"
  }
 },
 "nbformat": 4,
 "nbformat_minor": 2
}
