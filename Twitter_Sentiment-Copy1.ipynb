{
 "cells": [
  {
   "cell_type": "code",
   "execution_count": 1,
   "metadata": {},
   "outputs": [],
   "source": [
    "import tweepy\n",
    "from textblob import TextBlob\n",
    "from tweepy.parsers import JSONParser\n",
    "import json"
   ]
  },
  {
   "cell_type": "code",
   "execution_count": 2,
   "metadata": {},
   "outputs": [],
   "source": [
    "access_token = '952716301851652096-Zdn01tpFWXOcTbPuHdye0LkeL4dcyW8'\n",
    "access_token_secret = 'TDnC2QSAIzJN1uZcwwG3ZFYru5D2KSEg2KoKJz48uIRPV'\n",
    "consumer_key = 'aLSimwfXagEX2RfBBmRRq9Mxs'\n",
    "consumer_secret = 'U99xcJ8DkwKtrIm2tzfCmnQJovmbHef7L9BLDmjJTYgkomEwfP'"
   ]
  },
  {
   "cell_type": "code",
   "execution_count": 3,
   "metadata": {},
   "outputs": [],
   "source": [
    "auth = tweepy.OAuthHandler(consumer_key,consumer_secret)\n",
    "auth.set_access_token(access_token,access_token_secret)\n",
    "#api = tweepy.API(auth,parser = JSONParser())\n",
    "api = tweepy.API(auth)"
   ]
  },
  {
   "cell_type": "code",
   "execution_count": null,
   "metadata": {},
   "outputs": [],
   "source": [
    "import mongoconn as mg\n",
    "conn = mg.get_mongo_db('tweettest')\n",
    "collection = conn['test']"
   ]
  },
  {
   "cell_type": "code",
   "execution_count": 23,
   "metadata": {},
   "outputs": [],
   "source": [
    "visible_public_tweets = api.search(q='$GLD',rpp=1)#,page=5)\n",
    "lista = list()\n",
    "#json_str =json.dumps(visible_public_tweets)\n",
    "for te in visible_public_tweets:\n",
    "    #collection.insert_one(json.loads(json.dumps(te._json)))\n",
    "    lista.append(json.loads(json.dumps(te._json)))"
   ]
  },
  {
   "cell_type": "code",
   "execution_count": 24,
   "metadata": {},
   "outputs": [
    {
     "data": {
      "text/plain": [
       "{'created_at': 'Tue Jul 31 17:33:19 +0000 2018',\n",
       " 'id': 1024347285810040839,\n",
       " 'id_str': '1024347285810040839',\n",
       " 'text': 'RT @KobeissiLetter: #GOLD: A nice rally off the news this morning about deescalation of trade tensions with China. Seeing a similar bottom…',\n",
       " 'truncated': False,\n",
       " 'entities': {'hashtags': [{'text': 'GOLD', 'indices': [20, 25]}],\n",
       "  'symbols': [],\n",
       "  'user_mentions': [{'screen_name': 'KobeissiLetter',\n",
       "    'name': 'The Kobeissi Letter',\n",
       "    'id': 3316376038,\n",
       "    'id_str': '3316376038',\n",
       "    'indices': [3, 18]}],\n",
       "  'urls': []},\n",
       " 'metadata': {'iso_language_code': 'en', 'result_type': 'recent'},\n",
       " 'source': '<a href=\"http://twitter.com/#!/download/ipad\" rel=\"nofollow\">Twitter for iPad</a>',\n",
       " 'in_reply_to_status_id': None,\n",
       " 'in_reply_to_status_id_str': None,\n",
       " 'in_reply_to_user_id': None,\n",
       " 'in_reply_to_user_id_str': None,\n",
       " 'in_reply_to_screen_name': None,\n",
       " 'user': {'id': 3440548823,\n",
       "  'id_str': '3440548823',\n",
       "  'name': 'Charles De Rose',\n",
       "  'screen_name': 'CharlesDeRose3',\n",
       "  'location': 'Longboat Key, Fl',\n",
       "  'description': 'Investment Counsel - Fiduciary - Family Office - Former RIA- Wall St.- Army Infantry Korea -World Traveler and Scotch drinker...Not Investment Advice.',\n",
       "  'url': None,\n",
       "  'entities': {'description': {'urls': []}},\n",
       "  'protected': False,\n",
       "  'followers_count': 1743,\n",
       "  'friends_count': 1486,\n",
       "  'listed_count': 25,\n",
       "  'created_at': 'Tue Aug 25 22:18:07 +0000 2015',\n",
       "  'favourites_count': 8386,\n",
       "  'utc_offset': None,\n",
       "  'time_zone': None,\n",
       "  'geo_enabled': False,\n",
       "  'verified': False,\n",
       "  'statuses_count': 20168,\n",
       "  'lang': 'en',\n",
       "  'contributors_enabled': False,\n",
       "  'is_translator': False,\n",
       "  'is_translation_enabled': False,\n",
       "  'profile_background_color': 'C0DEED',\n",
       "  'profile_background_image_url': 'http://abs.twimg.com/images/themes/theme1/bg.png',\n",
       "  'profile_background_image_url_https': 'https://abs.twimg.com/images/themes/theme1/bg.png',\n",
       "  'profile_background_tile': False,\n",
       "  'profile_image_url': 'http://pbs.twimg.com/profile_images/999804461773045760/WgXOkmhS_normal.jpg',\n",
       "  'profile_image_url_https': 'https://pbs.twimg.com/profile_images/999804461773045760/WgXOkmhS_normal.jpg',\n",
       "  'profile_banner_url': 'https://pbs.twimg.com/profile_banners/3440548823/1527206936',\n",
       "  'profile_link_color': '1DA1F2',\n",
       "  'profile_sidebar_border_color': 'C0DEED',\n",
       "  'profile_sidebar_fill_color': 'DDEEF6',\n",
       "  'profile_text_color': '333333',\n",
       "  'profile_use_background_image': True,\n",
       "  'has_extended_profile': False,\n",
       "  'default_profile': True,\n",
       "  'default_profile_image': False,\n",
       "  'following': False,\n",
       "  'follow_request_sent': False,\n",
       "  'notifications': False,\n",
       "  'translator_type': 'none'},\n",
       " 'geo': None,\n",
       " 'coordinates': None,\n",
       " 'place': None,\n",
       " 'contributors': None,\n",
       " 'retweeted_status': {'created_at': 'Tue Jul 31 16:38:50 +0000 2018',\n",
       "  'id': 1024333575875899392,\n",
       "  'id_str': '1024333575875899392',\n",
       "  'text': '#GOLD: A nice rally off the news this morning about deescalation of trade tensions with China. Seeing a similar bot… https://t.co/zhRric5PkF',\n",
       "  'truncated': True,\n",
       "  'entities': {'hashtags': [{'text': 'GOLD', 'indices': [0, 5]}],\n",
       "   'symbols': [],\n",
       "   'user_mentions': [],\n",
       "   'urls': [{'url': 'https://t.co/zhRric5PkF',\n",
       "     'expanded_url': 'https://twitter.com/i/web/status/1024333575875899392',\n",
       "     'display_url': 'twitter.com/i/web/status/1…',\n",
       "     'indices': [117, 140]}]},\n",
       "  'metadata': {'iso_language_code': 'en', 'result_type': 'recent'},\n",
       "  'source': '<a href=\"http://twitter.com\" rel=\"nofollow\">Twitter Web Client</a>',\n",
       "  'in_reply_to_status_id': None,\n",
       "  'in_reply_to_status_id_str': None,\n",
       "  'in_reply_to_user_id': None,\n",
       "  'in_reply_to_user_id_str': None,\n",
       "  'in_reply_to_screen_name': None,\n",
       "  'user': {'id': 3316376038,\n",
       "   'id_str': '3316376038',\n",
       "   'name': 'The Kobeissi Letter',\n",
       "   'screen_name': 'KobeissiLetter',\n",
       "   'location': 'United States',\n",
       "   'description': 'Official Twitter account for The Kobeissi Letter, a weekly commentary on the global capital markets. Email us: support@thekobeissiletter.com',\n",
       "   'url': 'https://t.co/WKufBKefDB',\n",
       "   'entities': {'url': {'urls': [{'url': 'https://t.co/WKufBKefDB',\n",
       "       'expanded_url': 'http://thekobeissiletter.com',\n",
       "       'display_url': 'thekobeissiletter.com',\n",
       "       'indices': [0, 23]}]},\n",
       "    'description': {'urls': []}},\n",
       "   'protected': False,\n",
       "   'followers_count': 11238,\n",
       "   'friends_count': 449,\n",
       "   'listed_count': 143,\n",
       "   'created_at': 'Wed Jun 10 00:34:15 +0000 2015',\n",
       "   'favourites_count': 9,\n",
       "   'utc_offset': None,\n",
       "   'time_zone': None,\n",
       "   'geo_enabled': False,\n",
       "   'verified': False,\n",
       "   'statuses_count': 1877,\n",
       "   'lang': 'en',\n",
       "   'contributors_enabled': False,\n",
       "   'is_translator': False,\n",
       "   'is_translation_enabled': False,\n",
       "   'profile_background_color': 'C0DEED',\n",
       "   'profile_background_image_url': 'http://abs.twimg.com/images/themes/theme1/bg.png',\n",
       "   'profile_background_image_url_https': 'https://abs.twimg.com/images/themes/theme1/bg.png',\n",
       "   'profile_background_tile': False,\n",
       "   'profile_image_url': 'http://pbs.twimg.com/profile_images/975569364652118016/b8HI_D8A_normal.jpg',\n",
       "   'profile_image_url_https': 'https://pbs.twimg.com/profile_images/975569364652118016/b8HI_D8A_normal.jpg',\n",
       "   'profile_banner_url': 'https://pbs.twimg.com/profile_banners/3316376038/1456069028',\n",
       "   'profile_link_color': '1DA1F2',\n",
       "   'profile_sidebar_border_color': 'C0DEED',\n",
       "   'profile_sidebar_fill_color': 'DDEEF6',\n",
       "   'profile_text_color': '333333',\n",
       "   'profile_use_background_image': True,\n",
       "   'has_extended_profile': False,\n",
       "   'default_profile': True,\n",
       "   'default_profile_image': False,\n",
       "   'following': False,\n",
       "   'follow_request_sent': False,\n",
       "   'notifications': False,\n",
       "   'translator_type': 'none'},\n",
       "  'geo': None,\n",
       "  'coordinates': None,\n",
       "  'place': None,\n",
       "  'contributors': None,\n",
       "  'is_quote_status': False,\n",
       "  'retweet_count': 17,\n",
       "  'favorite_count': 35,\n",
       "  'favorited': False,\n",
       "  'retweeted': False,\n",
       "  'possibly_sensitive': False,\n",
       "  'lang': 'en'},\n",
       " 'is_quote_status': False,\n",
       " 'retweet_count': 17,\n",
       " 'favorite_count': 0,\n",
       " 'favorited': False,\n",
       " 'retweeted': False,\n",
       " 'lang': 'en'}"
      ]
     },
     "execution_count": 24,
     "metadata": {},
     "output_type": "execute_result"
    }
   ],
   "source": [
    "lista[0]"
   ]
  },
  {
   "cell_type": "code",
   "execution_count": 26,
   "metadata": {},
   "outputs": [],
   "source": [
    "resultado = collection.find()"
   ]
  },
  {
   "cell_type": "code",
   "execution_count": 27,
   "metadata": {},
   "outputs": [],
   "source": [
    "mirar = list(resultado)"
   ]
  },
  {
   "cell_type": "code",
   "execution_count": 30,
   "metadata": {},
   "outputs": [
    {
     "data": {
      "text/plain": [
       "'Current $IOTA price: $0.94 \\n\\nHURRY! Binance is currently accepting new users 😍 💸  \\n\\n➡️ https://t.co/xSimi8HW4A… https://t.co/nJcVns6Ioz'"
      ]
     },
     "execution_count": 30,
     "metadata": {},
     "output_type": "execute_result"
    }
   ],
   "source": [
    "mirar[0]['text']"
   ]
  },
  {
   "cell_type": "code",
   "execution_count": 32,
   "metadata": {},
   "outputs": [],
   "source": [
    "prueba = collection.find({},'text')"
   ]
  },
  {
   "cell_type": "code",
   "execution_count": 34,
   "metadata": {},
   "outputs": [],
   "source": [
    "masprueba = list(prueba)"
   ]
  },
  {
   "cell_type": "code",
   "execution_count": 35,
   "metadata": {},
   "outputs": [
    {
     "data": {
      "text/plain": [
       "[{'_id': ObjectId('5b609cf2949ebb1b7885d0e9')},\n",
       " {'_id': ObjectId('5b609cf2949ebb1b7885d0ea')},\n",
       " {'_id': ObjectId('5b609cf2949ebb1b7885d0eb')},\n",
       " {'_id': ObjectId('5b609cf2949ebb1b7885d0ec')},\n",
       " {'_id': ObjectId('5b609cf2949ebb1b7885d0ed')},\n",
       " {'_id': ObjectId('5b609cf2949ebb1b7885d0ee')},\n",
       " {'_id': ObjectId('5b609cf2949ebb1b7885d0ef')},\n",
       " {'_id': ObjectId('5b609cf2949ebb1b7885d0f0')},\n",
       " {'_id': ObjectId('5b609cf2949ebb1b7885d0f1')},\n",
       " {'_id': ObjectId('5b609cf2949ebb1b7885d0f2')},\n",
       " {'_id': ObjectId('5b609cf2949ebb1b7885d0f3')},\n",
       " {'_id': ObjectId('5b609cf2949ebb1b7885d0f4')},\n",
       " {'_id': ObjectId('5b609cf2949ebb1b7885d0f5')},\n",
       " {'_id': ObjectId('5b609cf2949ebb1b7885d0f6')},\n",
       " {'_id': ObjectId('5b609cf2949ebb1b7885d0f7')},\n",
       " {'_id': ObjectId('5b609d01949ebb1b7885d0f8')},\n",
       " {'_id': ObjectId('5b609d01949ebb1b7885d0f9')},\n",
       " {'_id': ObjectId('5b609d01949ebb1b7885d0fa')},\n",
       " {'_id': ObjectId('5b609d01949ebb1b7885d0fb')},\n",
       " {'_id': ObjectId('5b609d01949ebb1b7885d0fc')},\n",
       " {'_id': ObjectId('5b609d01949ebb1b7885d0fd')},\n",
       " {'_id': ObjectId('5b609d01949ebb1b7885d0fe')},\n",
       " {'_id': ObjectId('5b609d01949ebb1b7885d0ff')},\n",
       " {'_id': ObjectId('5b609d01949ebb1b7885d100')},\n",
       " {'_id': ObjectId('5b609d01949ebb1b7885d101')},\n",
       " {'_id': ObjectId('5b609d01949ebb1b7885d102')},\n",
       " {'_id': ObjectId('5b609d01949ebb1b7885d103')},\n",
       " {'_id': ObjectId('5b609d01949ebb1b7885d104')},\n",
       " {'_id': ObjectId('5b609d01949ebb1b7885d105')},\n",
       " {'_id': ObjectId('5b609d01949ebb1b7885d106')}]"
      ]
     },
     "execution_count": 35,
     "metadata": {},
     "output_type": "execute_result"
    }
   ],
   "source": [
    "masprueba"
   ]
  },
  {
   "cell_type": "code",
   "execution_count": null,
   "metadata": {},
   "outputs": [],
   "source": []
  }
 ],
 "metadata": {
  "accelerator": "GPU",
  "colab": {
   "default_view": {},
   "name": "NLP Coding Challenge #4.ipynb",
   "provenance": [
    {
     "file_id": "1ABp9cSqcJTtWdhVTYDey0qCNBa0GE1Zj",
     "timestamp": 1528401826156
    },
    {
     "file_id": "1OJAIsEv6zEB0atuuYpkI4ZrUXJIBJXHG",
     "timestamp": 1528111640420
    },
    {
     "file_id": "1NDYcKfAFVfU7JItJynnxb8lEAbVqpCl0",
     "timestamp": 1528005194408
    },
    {
     "file_id": "1xeSCCuNTKvZrNNmyRc1dBgiYsBJdrqOq",
     "timestamp": 1527930675172
    },
    {
     "file_id": "1sIBdz6SOq22toKGnIXG_pS7RGlXhVD9K",
     "timestamp": 1527911413882
    }
   ],
   "version": "0.3.2",
   "views": {}
  },
  "kernelspec": {
   "display_name": "Python 3",
   "language": "python",
   "name": "python3"
  },
  "language_info": {
   "codemirror_mode": {
    "name": "ipython",
    "version": 3
   },
   "file_extension": ".py",
   "mimetype": "text/x-python",
   "name": "python",
   "nbconvert_exporter": "python",
   "pygments_lexer": "ipython3",
   "version": "3.6.6"
  }
 },
 "nbformat": 4,
 "nbformat_minor": 2
}
