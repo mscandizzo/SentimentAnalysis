{
 "cells": [
  {
   "cell_type": "code",
   "execution_count": 36,
   "metadata": {},
   "outputs": [],
   "source": [
    "import tweepy\n",
    "from textblob import TextBlob\n",
    "from tweepy.parsers import JSONParser\n",
    "import json"
   ]
  },
  {
   "cell_type": "code",
   "execution_count": 37,
   "metadata": {},
   "outputs": [],
   "source": [
    "access_token = '952716301851652096-Zdn01tpFWXOcTbPuHdye0LkeL4dcyW8'\n",
    "access_token_secret = 'TDnC2QSAIzJN1uZcwwG3ZFYru5D2KSEg2KoKJz48uIRPV'\n",
    "consumer_key = 'aLSimwfXagEX2RfBBmRRq9Mxs'\n",
    "consumer_secret = 'U99xcJ8DkwKtrIm2tzfCmnQJovmbHef7L9BLDmjJTYgkomEwfP'"
   ]
  },
  {
   "cell_type": "code",
   "execution_count": 38,
   "metadata": {},
   "outputs": [],
   "source": [
    "auth = tweepy.OAuthHandler(consumer_key,consumer_secret)\n",
    "auth.set_access_token(access_token,access_token_secret)\n",
    "#api = tweepy.API(auth,parser = JSONParser())\n",
    "api = tweepy.API(auth)"
   ]
  },
  {
   "cell_type": "code",
   "execution_count": 39,
   "metadata": {},
   "outputs": [],
   "source": [
    "import mongoconn as mg\n",
    "conn = mg.get_mongo_db('tweettest')\n",
    "collection = conn['test']"
   ]
  },
  {
   "cell_type": "code",
   "execution_count": 40,
   "metadata": {},
   "outputs": [],
   "source": [
    "visible_public_tweets = api.search(q='$GLD',rpp=1)#,page=5)\n",
    "lista = list()\n",
    "#json_str =json.dumps(visible_public_tweets)\n",
    "for te in visible_public_tweets:\n",
    "    #collection.insert_one(json.loads(json.dumps(te._json)))\n",
    "    lista.append(json.loads(json.dumps(te._json)))"
   ]
  },
  {
   "cell_type": "code",
   "execution_count": 65,
   "metadata": {},
   "outputs": [],
   "source": [
    "resultado = collection.find({},{\"text\":1,\"_id\":0})"
   ]
  },
  {
   "cell_type": "code",
   "execution_count": 66,
   "metadata": {},
   "outputs": [],
   "source": [
    "mirar = list(resultado)"
   ]
  },
  {
   "cell_type": "code",
   "execution_count": 67,
   "metadata": {},
   "outputs": [
    {
     "data": {
      "text/plain": [
       "30"
      ]
     },
     "execution_count": 67,
     "metadata": {},
     "output_type": "execute_result"
    }
   ],
   "source": [
    "len(mirar)"
   ]
  },
  {
   "cell_type": "code",
   "execution_count": 68,
   "metadata": {},
   "outputs": [],
   "source": [
    "prueba = collection.find({})"
   ]
  },
  {
   "cell_type": "code",
   "execution_count": 61,
   "metadata": {},
   "outputs": [],
   "source": [
    "masprueba = list(prueba)"
   ]
  },
  {
   "cell_type": "code",
   "execution_count": 62,
   "metadata": {},
   "outputs": [
    {
     "data": {
      "text/plain": [
       "30"
      ]
     },
     "execution_count": 62,
     "metadata": {},
     "output_type": "execute_result"
    }
   ],
   "source": [
    "len(masprueba)"
   ]
  },
  {
   "cell_type": "code",
   "execution_count": 1,
   "metadata": {},
   "outputs": [],
   "source": [
    "import mongoconn as mg"
   ]
  },
  {
   "cell_type": "code",
   "execution_count": 2,
   "metadata": {},
   "outputs": [],
   "source": [
    "veremos = mg.search_field(field='text',collection='test',db_name='tweettest')"
   ]
  },
  {
   "cell_type": "code",
   "execution_count": 3,
   "metadata": {},
   "outputs": [
    {
     "data": {
      "text/plain": [
       "[{'text': 'Current $IOTA price: $0.94 \\n\\nHURRY! Binance is currently accepting new users 😍 💸  \\n\\n➡️ https://t.co/xSimi8HW4A… https://t.co/nJcVns6Ioz'},\n",
       " {'text': 'MoviePass $HMNY Off bottom. Bull Run Coming imo. $BTC $ETH $CAT $TSLA $FB $TRX $ETC $GBPUSD $USD $AWX $AMXN $TWTR… https://t.co/FfWsQtT7mf'},\n",
       " {'text': 'TRON $TRX price: $0.034797 \\n\\nBinance is TEMPORARILY accepting new users! GO! 🙌 💰  \\n\\n➡️ https://t.co/cLVEBZmoaR… https://t.co/BMpMm5D3yA'},\n",
       " {'text': '$GLD taking a stab at this 115.93, stop loss 115.53'},\n",
       " {'text': '.\\nOur Latest 500% Gainer!\\n.\\nhttps://t.co/JX4QNct8lt\\n94% Avg Gain\\nAlways Unbiased\\n14 Years Online\\nFamily-Run\\n.\\n.… https://t.co/paL4sOOLzL'},\n",
       " {'text': '.\\nThe signals and signs Market Makers send each other to move a stock:\\nArticle: https://t.co/V2nsljql1Q\\n.\\n.\\n$BTC… https://t.co/zu8aWBAdx0'},\n",
       " {'text': '10 minutes price alerts:\\nGainers:\\n$GAM: 3.90%\\n$GLD: 3.54%\\n$BCY: 3.10%\\n\\nLosers:\\n$XMY: -2.04%\\n$BURST: -1.89%\\n$NGC: -1.68%'},\n",
       " {'text': 'Binance is one of the top 10 crypto exchanges. Sign up here 😊  \\n\\nRegister for BONUS ➡️ https://t.co/p6kvuLMA4z… https://t.co/LDHWy1WpUX'},\n",
       " {'text': 'RT @reidtrader: #Gold is at its daily cycle (DC) downtrend line again on the hourly. Bulls need to get through here and back above the swin…'},\n",
       " {'text': 'Get access to 15+ premium paid groups for a fraction of the price! 🤑  \\n\\nJoin Us ➡️ https://t.co/o2Tun18cdZ\\n\\n$GLD… https://t.co/Ui2trsxzHe'},\n",
       " {'text': 'RT @oliviabvoz: Gold is that D-listed celebrity that can make a COMEBACK with a bullish falling wedge. TECHNICAL TUESDAY! https://t.co/PER6…'},\n",
       " {'text': 'Gold is that D-listed celebrity that can make a COMEBACK with a bullish falling wedge. TECHNICAL TUESDAY!… https://t.co/v5avZSVDf1'},\n",
       " {'text': 'RT @KobeissiLetter: #GOLD: A nice rally off the news this morning about deescalation of trade tensions with China. Seeing a similar bottom…'},\n",
       " {'text': 'RT @mark_dow: Gold and precious metals have begun their squaring up in front of the Fed tomorrow. $GLD $GC_F'},\n",
       " {'text': \"Today's million dollar CALL #options trade update:\\n$AMD $AMGN $AVGO $BABA $CMCSA $COST $GLD $JD $MU $NFLX $NVDA… https://t.co/1pdaGGRSun\"},\n",
       " {'text': 'Current $IOTA price: $0.94 \\n\\nHURRY! Binance is currently accepting new users 😍 💸  \\n\\n➡️ https://t.co/xSimi8HW4A… https://t.co/nJcVns6Ioz'},\n",
       " {'text': 'MoviePass $HMNY Off bottom. Bull Run Coming imo. $BTC $ETH $CAT $TSLA $FB $TRX $ETC $GBPUSD $USD $AWX $AMXN $TWTR… https://t.co/FfWsQtT7mf'},\n",
       " {'text': 'TRON $TRX price: $0.034797 \\n\\nBinance is TEMPORARILY accepting new users! GO! 🙌 💰  \\n\\n➡️ https://t.co/cLVEBZmoaR… https://t.co/BMpMm5D3yA'},\n",
       " {'text': '$GLD taking a stab at this 115.93, stop loss 115.53'},\n",
       " {'text': '.\\nOur Latest 500% Gainer!\\n.\\nhttps://t.co/JX4QNct8lt\\n94% Avg Gain\\nAlways Unbiased\\n14 Years Online\\nFamily-Run\\n.\\n.… https://t.co/paL4sOOLzL'},\n",
       " {'text': '.\\nThe signals and signs Market Makers send each other to move a stock:\\nArticle: https://t.co/V2nsljql1Q\\n.\\n.\\n$BTC… https://t.co/zu8aWBAdx0'},\n",
       " {'text': '10 minutes price alerts:\\nGainers:\\n$GAM: 3.90%\\n$GLD: 3.54%\\n$BCY: 3.10%\\n\\nLosers:\\n$XMY: -2.04%\\n$BURST: -1.89%\\n$NGC: -1.68%'},\n",
       " {'text': 'Binance is one of the top 10 crypto exchanges. Sign up here 😊  \\n\\nRegister for BONUS ➡️ https://t.co/p6kvuLMA4z… https://t.co/LDHWy1WpUX'},\n",
       " {'text': 'RT @reidtrader: #Gold is at its daily cycle (DC) downtrend line again on the hourly. Bulls need to get through here and back above the swin…'},\n",
       " {'text': 'Get access to 15+ premium paid groups for a fraction of the price! 🤑  \\n\\nJoin Us ➡️ https://t.co/o2Tun18cdZ\\n\\n$GLD… https://t.co/Ui2trsxzHe'},\n",
       " {'text': 'RT @oliviabvoz: Gold is that D-listed celebrity that can make a COMEBACK with a bullish falling wedge. TECHNICAL TUESDAY! https://t.co/PER6…'},\n",
       " {'text': 'Gold is that D-listed celebrity that can make a COMEBACK with a bullish falling wedge. TECHNICAL TUESDAY!… https://t.co/v5avZSVDf1'},\n",
       " {'text': 'RT @KobeissiLetter: #GOLD: A nice rally off the news this morning about deescalation of trade tensions with China. Seeing a similar bottom…'},\n",
       " {'text': 'RT @mark_dow: Gold and precious metals have begun their squaring up in front of the Fed tomorrow. $GLD $GC_F'},\n",
       " {'text': \"Today's million dollar CALL #options trade update:\\n$AMD $AMGN $AVGO $BABA $CMCSA $COST $GLD $JD $MU $NFLX $NVDA… https://t.co/1pdaGGRSun\"}]"
      ]
     },
     "execution_count": 3,
     "metadata": {},
     "output_type": "execute_result"
    }
   ],
   "source": [
    "veremos"
   ]
  },
  {
   "cell_type": "code",
   "execution_count": null,
   "metadata": {},
   "outputs": [],
   "source": []
  }
 ],
 "metadata": {
  "accelerator": "GPU",
  "colab": {
   "default_view": {},
   "name": "NLP Coding Challenge #4.ipynb",
   "provenance": [
    {
     "file_id": "1ABp9cSqcJTtWdhVTYDey0qCNBa0GE1Zj",
     "timestamp": 1528401826156
    },
    {
     "file_id": "1OJAIsEv6zEB0atuuYpkI4ZrUXJIBJXHG",
     "timestamp": 1528111640420
    },
    {
     "file_id": "1NDYcKfAFVfU7JItJynnxb8lEAbVqpCl0",
     "timestamp": 1528005194408
    },
    {
     "file_id": "1xeSCCuNTKvZrNNmyRc1dBgiYsBJdrqOq",
     "timestamp": 1527930675172
    },
    {
     "file_id": "1sIBdz6SOq22toKGnIXG_pS7RGlXhVD9K",
     "timestamp": 1527911413882
    }
   ],
   "version": "0.3.2",
   "views": {}
  },
  "kernelspec": {
   "display_name": "Python 3",
   "language": "python",
   "name": "python3"
  },
  "language_info": {
   "codemirror_mode": {
    "name": "ipython",
    "version": 3
   },
   "file_extension": ".py",
   "mimetype": "text/x-python",
   "name": "python",
   "nbconvert_exporter": "python",
   "pygments_lexer": "ipython3",
   "version": "3.6.6"
  }
 },
 "nbformat": 4,
 "nbformat_minor": 2
}
