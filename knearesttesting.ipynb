{
 "cells": [
  {
   "cell_type": "code",
   "execution_count": 1,
   "metadata": {},
   "outputs": [],
   "source": [
    "import plotly.plotly as py\n",
    "import plotly.graph_objs as go\n",
    "from plotly.grid_objs import Grid, Column\n",
    "import matplotlib.pyplot as plt\n",
    "\n",
    "import time\n",
    "\n",
    "py.sign_in('mscandizzo', 'QA6ByvcoBJcWk7H0NAUi')\n",
    "\n",
    "import centroids as ct"
   ]
  },
  {
   "cell_type": "code",
   "execution_count": 3,
   "metadata": {},
   "outputs": [],
   "source": [
    "vectores , colores, k = ct.create_sample()"
   ]
  },
  {
   "cell_type": "code",
   "execution_count": 4,
   "metadata": {},
   "outputs": [
    {
     "data": {
      "text/html": [
       "<iframe id=\"igraph\" scrolling=\"no\" style=\"border:none;\" seamless=\"seamless\" src=\"https://plot.ly/~mscandizzo/847.embed\" height=\"525px\" width=\"100%\"></iframe>"
      ],
      "text/plain": [
       "<plotly.tools.PlotlyDisplay object>"
      ]
     },
     "execution_count": 4,
     "metadata": {},
     "output_type": "execute_result"
    }
   ],
   "source": [
    "trace = go.Scatter(\n",
    "    x = vectores[:,0],\n",
    "    y = vectores[:,1],\n",
    "    mode = 'markers'\n",
    ")\n",
    "\n",
    "data = [trace]\n",
    "\n",
    "# Plot and embed in ipython notebook!\n",
    "py.iplot(data, filename='basic-scatter')"
   ]
  },
  {
   "cell_type": "markdown",
   "metadata": {},
   "source": [
    "trace = go.Scatter(\n",
    "    x = vectores[:,0],\n",
    "    y = vectores[:,1],\n",
    "    mode = 'markers',\n",
    "    marker = dict(\n",
    "        color = '#3c00ff',\n",
    "        size = 8,\n",
    "        line = dict(width = 1)\n",
    "    )\n",
    ")\n",
    "\n",
    "trace1 = go.Scatter(\n",
    "    x = centroids[:,0],\n",
    "    y = centroids[:,1],\n",
    "    mode = 'markers',\n",
    "    marker = dict(\n",
    "        color = '#9a2d25',\n",
    "        size = 12,\n",
    "        line = dict(width = 1)\n",
    "    )\n",
    ")\n",
    "data = [trace, trace1]\n",
    "\n",
    "# Plot and embed in ipython notebook!\n",
    "py.iplot(data, filename='basic-scatter')"
   ]
  },
  {
   "cell_type": "code",
   "execution_count": 2,
   "metadata": {},
   "outputs": [],
   "source": [
    "vectores, colores , k = ct.create_sample()"
   ]
  },
  {
   "cell_type": "code",
   "execution_count": 3,
   "metadata": {},
   "outputs": [
    {
     "data": {
      "text/plain": [
       "(300, 2)"
      ]
     },
     "execution_count": 3,
     "metadata": {},
     "output_type": "execute_result"
    }
   ],
   "source": [
    "vectores.shape"
   ]
  },
  {
   "cell_type": "code",
   "execution_count": 4,
   "metadata": {},
   "outputs": [
    {
     "name": "stderr",
     "output_type": "stream",
     "text": [
      "C:\\Users\\maria\\Anaconda3\\lib\\site-packages\\matplotlib\\cbook\\deprecation.py:107: MatplotlibDeprecationWarning:\n",
      "\n",
      "Adding an axes using the same arguments as a previous axes currently reuses the earlier instance.  In a future version, a new instance will always be created and returned.  Meanwhile, this warning can be suppressed, and the future behavior ensured, by passing a unique label to each axes instance.\n",
      "\n"
     ]
    },
    {
     "data": {
      "image/png": "[encoded data removed]",
      "text/plain": [
       "<Figure size 432x288 with 1 Axes>"
      ]
     },
     "metadata": {},
     "output_type": "display_data"
    }
   ],
   "source": [
    "plt.scatter(vectores[:, 0], vectores[:, 1],c=colores)\n",
    "plt.axes().set_aspect('equal', 'datalim')"
   ]
  },
  {
   "cell_type": "code",
   "execution_count": 5,
   "metadata": {},
   "outputs": [],
   "source": [
    "centros = ct.get_random_centroids(vectores,k)"
   ]
  },
  {
   "cell_type": "code",
   "execution_count": 6,
   "metadata": {},
   "outputs": [
    {
     "data": {
      "text/plain": [
       "array([[11.57413997, 15.04210831],\n",
       "       [12.13512829,  4.73019389],\n",
       "       [ 7.20019073, 21.49087547]])"
      ]
     },
     "execution_count": 6,
     "metadata": {},
     "output_type": "execute_result"
    }
   ],
   "source": [
    "centros"
   ]
  },
  {
   "cell_type": "code",
   "execution_count": 7,
   "metadata": {},
   "outputs": [
    {
     "name": "stdout",
     "output_type": "stream",
     "text": [
      "[[11.57413997 15.04210831]\n",
      " [12.13512829  4.73019389]\n",
      " [ 7.20019073 21.49087547]]\n",
      "[[ 8.971084   13.09508512]\n",
      " [ 4.69933995 -0.93869685]\n",
      " [ 6.58186256 22.28947286]]\n",
      "[[ 7.97767635 11.52317114]\n",
      " [ 3.78176614 -2.86772545]\n",
      " [ 8.12619634 24.5486675 ]]\n",
      "[[ 7.33997917 10.51475489]\n",
      " [ 3.36565539 -4.25610547]\n",
      " [ 9.1121165  24.81040283]]\n",
      "[[ 6.90782693  9.71172322]\n",
      " [ 3.28096454 -5.24917531]\n",
      " [ 9.32736861 24.2508983 ]]\n",
      "[[ 6.80580123  9.48023708]\n",
      " [ 3.24884352 -5.64570418]\n",
      " [ 9.32736861 24.2508983 ]]\n",
      "[[ 6.75110523  9.38646803]\n",
      " [ 3.25792584 -5.80715351]\n",
      " [ 9.32736861 24.2508983 ]]\n",
      "[[ 6.69806198  9.29160431]\n",
      " [ 3.2670967  -5.96967901]\n",
      " [ 9.32736861 24.2508983 ]]\n",
      "[[ 6.69806198  9.29160431]\n",
      " [ 3.2670967  -5.96967901]\n",
      " [ 9.32736861 24.2508983 ]]\n"
     ]
    }
   ],
   "source": [
    "movimiento = ct.looping_centroids(vectores, centros)"
   ]
  },
  {
   "cell_type": "code",
   "execution_count": 9,
   "metadata": {},
   "outputs": [
    {
     "data": {
      "text/plain": [
       "9"
      ]
     },
     "execution_count": 9,
     "metadata": {},
     "output_type": "execute_result"
    }
   ],
   "source": [
    "len(movimiento)"
   ]
  },
  {
   "cell_type": "code",
   "execution_count": 32,
   "metadata": {},
   "outputs": [
    {
     "name": "stdout",
     "output_type": "stream",
     "text": [
      "[ 9.29160431 -5.96967901 24.2508983 ]\n",
      "[13.09508512 -0.93869685 22.28947286]\n",
      "[11.52317114 -2.86772545 24.5486675 ]\n",
      "[10.51475489 -4.25610547 24.81040283]\n",
      "[ 9.71172322 -5.24917531 24.2508983 ]\n",
      "[ 9.48023708 -5.64570418 24.2508983 ]\n",
      "[ 9.38646803 -5.80715351 24.2508983 ]\n",
      "[ 9.29160431 -5.96967901 24.2508983 ]\n",
      "[ 9.29160431 -5.96967901 24.2508983 ]\n"
     ]
    }
   ],
   "source": [
    "for i in range(len(movimiento)):\n",
    "    print(movimiento[i][:,1])"
   ]
  },
  {
   "cell_type": "code",
   "execution_count": 10,
   "metadata": {},
   "outputs": [],
   "source": [
    "resul = movimiento"
   ]
  },
  {
   "cell_type": "code",
   "execution_count": 11,
   "metadata": {},
   "outputs": [],
   "source": [
    "lista = dict()\n",
    "evens = [x for x in range(0,len(resul)*2,2)]\n",
    "odds = [x for x in range((len(resul))*2) if x % 2 !=0]\n",
    "coordenadas = list()\n",
    "\n",
    "for i,res in enumerate(resul):\n",
    "    lista['column'+str(evens[i])] = Column([resul[i][0][0], resul[i][1][0],resul[i][2][0]], 'x'+str(evens[i]))\n",
    "    lista['column'+str(odds[i])] = Column([resul[i][0][1], resul[i][1][1],resul[i][2][1]], 'y'+str(odds[i]))\n",
    "    coordenadas.append(('x'+str(evens[i]),'y'+str(odds[i])))"
   ]
  },
  {
   "cell_type": "code",
   "execution_count": 13,
   "metadata": {},
   "outputs": [
    {
     "data": {
      "text/plain": [
       "9"
      ]
     },
     "execution_count": 13,
     "metadata": {},
     "output_type": "execute_result"
    }
   ],
   "source": [
    "len(coordenadas)"
   ]
  },
  {
   "cell_type": "code",
   "execution_count": 39,
   "metadata": {},
   "outputs": [
    {
     "ename": "PlotlyRequestError",
     "evalue": "Figure field is invalid. Reason: Raw data arrays are not allowed at this endpoint. Use grid references instead. Raw data found at the following paths in the figure [('data', 0, u'x'), ('data', 0, u'y')]",
     "output_type": "error",
     "traceback": [
      "\u001b[1;31m---------------------------------------------------------------------------\u001b[0m",
      "\u001b[1;31mPlotlyRequestError\u001b[0m                        Traceback (most recent call last)",
      "\u001b[1;32m<ipython-input-39-b7a82b60a872>\u001b[0m in \u001b[0;36m<module>\u001b[1;34m()\u001b[0m\n\u001b[0;32m    117\u001b[0m }\n\u001b[0;32m    118\u001b[0m \u001b[0mdatos\u001b[0m \u001b[1;33m=\u001b[0m \u001b[1;33m[\u001b[0m\u001b[0mtrace\u001b[0m\u001b[1;33m]\u001b[0m\u001b[1;33m\u001b[0m\u001b[0m\n\u001b[1;32m--> 119\u001b[1;33m \u001b[0mpy\u001b[0m\u001b[1;33m.\u001b[0m\u001b[0micreate_animations\u001b[0m\u001b[1;33m(\u001b[0m\u001b[0mfigure\u001b[0m\u001b[1;33m,\u001b[0m \u001b[1;34m'points_changing_size'\u001b[0m\u001b[1;33m+\u001b[0m\u001b[0mstr\u001b[0m\u001b[1;33m(\u001b[0m\u001b[0mtime\u001b[0m\u001b[1;33m.\u001b[0m\u001b[0mtime\u001b[0m\u001b[1;33m(\u001b[0m\u001b[1;33m)\u001b[0m\u001b[1;33m)\u001b[0m\u001b[1;33m)\u001b[0m\u001b[1;33m\u001b[0m\u001b[0m\n\u001b[0m\u001b[0;32m    120\u001b[0m \u001b[1;31m#py.iplot(datos, filename='basic-scatter')\u001b[0m\u001b[1;33m\u001b[0m\u001b[1;33m\u001b[0m\u001b[0m\n",
      "\u001b[1;32m~\\Anaconda3\\lib\\site-packages\\plotly\\plotly\\plotly.py\u001b[0m in \u001b[0;36micreate_animations\u001b[1;34m(figure, filename, sharing, auto_open)\u001b[0m\n\u001b[0;32m   1850\u001b[0m     \u001b[0mcreate_animations\u001b[0m\u001b[0;31m`\u001b[0m \u001b[0mDoc\u001b[0m \u001b[0mString\u001b[0m \u001b[1;32mfor\u001b[0m \u001b[0mparam\u001b[0m \u001b[0mdescriptions\u001b[0m\u001b[1;33m.\u001b[0m\u001b[1;33m\u001b[0m\u001b[0m\n\u001b[0;32m   1851\u001b[0m     \"\"\"\n\u001b[1;32m-> 1852\u001b[1;33m     \u001b[0murl\u001b[0m \u001b[1;33m=\u001b[0m \u001b[0mcreate_animations\u001b[0m\u001b[1;33m(\u001b[0m\u001b[0mfigure\u001b[0m\u001b[1;33m,\u001b[0m \u001b[0mfilename\u001b[0m\u001b[1;33m,\u001b[0m \u001b[0msharing\u001b[0m\u001b[1;33m,\u001b[0m \u001b[0mauto_open\u001b[0m\u001b[1;33m)\u001b[0m\u001b[1;33m\u001b[0m\u001b[0m\n\u001b[0m\u001b[0;32m   1853\u001b[0m \u001b[1;33m\u001b[0m\u001b[0m\n\u001b[0;32m   1854\u001b[0m     \u001b[1;32mif\u001b[0m \u001b[0misinstance\u001b[0m\u001b[1;33m(\u001b[0m\u001b[0mfigure\u001b[0m\u001b[1;33m,\u001b[0m \u001b[0mdict\u001b[0m\u001b[1;33m)\u001b[0m\u001b[1;33m:\u001b[0m\u001b[1;33m\u001b[0m\u001b[0m\n",
      "\u001b[1;32m~\\Anaconda3\\lib\\site-packages\\plotly\\plotly\\plotly.py\u001b[0m in \u001b[0;36mcreate_animations\u001b[1;34m(figure, filename, sharing, auto_open)\u001b[0m\n\u001b[0;32m   1828\u001b[0m         )\n\u001b[0;32m   1829\u001b[0m \u001b[1;33m\u001b[0m\u001b[0m\n\u001b[1;32m-> 1830\u001b[1;33m     \u001b[0mresponse\u001b[0m \u001b[1;33m=\u001b[0m \u001b[0mv2\u001b[0m\u001b[1;33m.\u001b[0m\u001b[0mplots\u001b[0m\u001b[1;33m.\u001b[0m\u001b[0mcreate\u001b[0m\u001b[1;33m(\u001b[0m\u001b[0mbody\u001b[0m\u001b[1;33m)\u001b[0m\u001b[1;33m\u001b[0m\u001b[0m\n\u001b[0m\u001b[0;32m   1831\u001b[0m     \u001b[0mparsed_content\u001b[0m \u001b[1;33m=\u001b[0m \u001b[0mresponse\u001b[0m\u001b[1;33m.\u001b[0m\u001b[0mjson\u001b[0m\u001b[1;33m(\u001b[0m\u001b[1;33m)\u001b[0m\u001b[1;33m\u001b[0m\u001b[0m\n\u001b[0;32m   1832\u001b[0m \u001b[1;33m\u001b[0m\u001b[0m\n",
      "\u001b[1;32m~\\Anaconda3\\lib\\site-packages\\plotly\\api\\v2\\plots.py\u001b[0m in \u001b[0;36mcreate\u001b[1;34m(body)\u001b[0m\n\u001b[0;32m     16\u001b[0m     \"\"\"\n\u001b[0;32m     17\u001b[0m     \u001b[0murl\u001b[0m \u001b[1;33m=\u001b[0m \u001b[0mbuild_url\u001b[0m\u001b[1;33m(\u001b[0m\u001b[0mRESOURCE\u001b[0m\u001b[1;33m)\u001b[0m\u001b[1;33m\u001b[0m\u001b[0m\n\u001b[1;32m---> 18\u001b[1;33m     \u001b[1;32mreturn\u001b[0m \u001b[0mrequest\u001b[0m\u001b[1;33m(\u001b[0m\u001b[1;34m'post'\u001b[0m\u001b[1;33m,\u001b[0m \u001b[0murl\u001b[0m\u001b[1;33m,\u001b[0m \u001b[0mjson\u001b[0m\u001b[1;33m=\u001b[0m\u001b[0mbody\u001b[0m\u001b[1;33m)\u001b[0m\u001b[1;33m\u001b[0m\u001b[0m\n\u001b[0m\u001b[0;32m     19\u001b[0m \u001b[1;33m\u001b[0m\u001b[0m\n\u001b[0;32m     20\u001b[0m \u001b[1;33m\u001b[0m\u001b[0m\n",
      "\u001b[1;32m~\\Anaconda3\\lib\\site-packages\\retrying.py\u001b[0m in \u001b[0;36mwrapped_f\u001b[1;34m(*args, **kw)\u001b[0m\n\u001b[0;32m     47\u001b[0m             \u001b[1;33m@\u001b[0m\u001b[0msix\u001b[0m\u001b[1;33m.\u001b[0m\u001b[0mwraps\u001b[0m\u001b[1;33m(\u001b[0m\u001b[0mf\u001b[0m\u001b[1;33m)\u001b[0m\u001b[1;33m\u001b[0m\u001b[0m\n\u001b[0;32m     48\u001b[0m             \u001b[1;32mdef\u001b[0m \u001b[0mwrapped_f\u001b[0m\u001b[1;33m(\u001b[0m\u001b[1;33m*\u001b[0m\u001b[0margs\u001b[0m\u001b[1;33m,\u001b[0m \u001b[1;33m**\u001b[0m\u001b[0mkw\u001b[0m\u001b[1;33m)\u001b[0m\u001b[1;33m:\u001b[0m\u001b[1;33m\u001b[0m\u001b[0m\n\u001b[1;32m---> 49\u001b[1;33m                 \u001b[1;32mreturn\u001b[0m \u001b[0mRetrying\u001b[0m\u001b[1;33m(\u001b[0m\u001b[1;33m*\u001b[0m\u001b[0mdargs\u001b[0m\u001b[1;33m,\u001b[0m \u001b[1;33m**\u001b[0m\u001b[0mdkw\u001b[0m\u001b[1;33m)\u001b[0m\u001b[1;33m.\u001b[0m\u001b[0mcall\u001b[0m\u001b[1;33m(\u001b[0m\u001b[0mf\u001b[0m\u001b[1;33m,\u001b[0m \u001b[1;33m*\u001b[0m\u001b[0margs\u001b[0m\u001b[1;33m,\u001b[0m \u001b[1;33m**\u001b[0m\u001b[0mkw\u001b[0m\u001b[1;33m)\u001b[0m\u001b[1;33m\u001b[0m\u001b[0m\n\u001b[0m\u001b[0;32m     50\u001b[0m \u001b[1;33m\u001b[0m\u001b[0m\n\u001b[0;32m     51\u001b[0m             \u001b[1;32mreturn\u001b[0m \u001b[0mwrapped_f\u001b[0m\u001b[1;33m\u001b[0m\u001b[0m\n",
      "\u001b[1;32m~\\Anaconda3\\lib\\site-packages\\retrying.py\u001b[0m in \u001b[0;36mcall\u001b[1;34m(self, fn, *args, **kwargs)\u001b[0m\n\u001b[0;32m    210\u001b[0m                 \u001b[1;32mif\u001b[0m \u001b[1;32mnot\u001b[0m \u001b[0mself\u001b[0m\u001b[1;33m.\u001b[0m\u001b[0m_wrap_exception\u001b[0m \u001b[1;32mand\u001b[0m \u001b[0mattempt\u001b[0m\u001b[1;33m.\u001b[0m\u001b[0mhas_exception\u001b[0m\u001b[1;33m:\u001b[0m\u001b[1;33m\u001b[0m\u001b[0m\n\u001b[0;32m    211\u001b[0m                     \u001b[1;31m# get() on an attempt with an exception should cause it to be raised, but raise just in case\u001b[0m\u001b[1;33m\u001b[0m\u001b[1;33m\u001b[0m\u001b[0m\n\u001b[1;32m--> 212\u001b[1;33m                     \u001b[1;32mraise\u001b[0m \u001b[0mattempt\u001b[0m\u001b[1;33m.\u001b[0m\u001b[0mget\u001b[0m\u001b[1;33m(\u001b[0m\u001b[1;33m)\u001b[0m\u001b[1;33m\u001b[0m\u001b[0m\n\u001b[0m\u001b[0;32m    213\u001b[0m                 \u001b[1;32melse\u001b[0m\u001b[1;33m:\u001b[0m\u001b[1;33m\u001b[0m\u001b[0m\n\u001b[0;32m    214\u001b[0m                     \u001b[1;32mraise\u001b[0m \u001b[0mRetryError\u001b[0m\u001b[1;33m(\u001b[0m\u001b[0mattempt\u001b[0m\u001b[1;33m)\u001b[0m\u001b[1;33m\u001b[0m\u001b[0m\n",
      "\u001b[1;32m~\\Anaconda3\\lib\\site-packages\\retrying.py\u001b[0m in \u001b[0;36mget\u001b[1;34m(self, wrap_exception)\u001b[0m\n\u001b[0;32m    245\u001b[0m                 \u001b[1;32mraise\u001b[0m \u001b[0mRetryError\u001b[0m\u001b[1;33m(\u001b[0m\u001b[0mself\u001b[0m\u001b[1;33m)\u001b[0m\u001b[1;33m\u001b[0m\u001b[0m\n\u001b[0;32m    246\u001b[0m             \u001b[1;32melse\u001b[0m\u001b[1;33m:\u001b[0m\u001b[1;33m\u001b[0m\u001b[0m\n\u001b[1;32m--> 247\u001b[1;33m                 \u001b[0msix\u001b[0m\u001b[1;33m.\u001b[0m\u001b[0mreraise\u001b[0m\u001b[1;33m(\u001b[0m\u001b[0mself\u001b[0m\u001b[1;33m.\u001b[0m\u001b[0mvalue\u001b[0m\u001b[1;33m[\u001b[0m\u001b[1;36m0\u001b[0m\u001b[1;33m]\u001b[0m\u001b[1;33m,\u001b[0m \u001b[0mself\u001b[0m\u001b[1;33m.\u001b[0m\u001b[0mvalue\u001b[0m\u001b[1;33m[\u001b[0m\u001b[1;36m1\u001b[0m\u001b[1;33m]\u001b[0m\u001b[1;33m,\u001b[0m \u001b[0mself\u001b[0m\u001b[1;33m.\u001b[0m\u001b[0mvalue\u001b[0m\u001b[1;33m[\u001b[0m\u001b[1;36m2\u001b[0m\u001b[1;33m]\u001b[0m\u001b[1;33m)\u001b[0m\u001b[1;33m\u001b[0m\u001b[0m\n\u001b[0m\u001b[0;32m    248\u001b[0m         \u001b[1;32melse\u001b[0m\u001b[1;33m:\u001b[0m\u001b[1;33m\u001b[0m\u001b[0m\n\u001b[0;32m    249\u001b[0m             \u001b[1;32mreturn\u001b[0m \u001b[0mself\u001b[0m\u001b[1;33m.\u001b[0m\u001b[0mvalue\u001b[0m\u001b[1;33m\u001b[0m\u001b[0m\n",
      "\u001b[1;32m~\\Anaconda3\\lib\\site-packages\\six.py\u001b[0m in \u001b[0;36mreraise\u001b[1;34m(tp, value, tb)\u001b[0m\n\u001b[0;32m    691\u001b[0m             \u001b[1;32mif\u001b[0m \u001b[0mvalue\u001b[0m\u001b[1;33m.\u001b[0m\u001b[0m__traceback__\u001b[0m \u001b[1;32mis\u001b[0m \u001b[1;32mnot\u001b[0m \u001b[0mtb\u001b[0m\u001b[1;33m:\u001b[0m\u001b[1;33m\u001b[0m\u001b[0m\n\u001b[0;32m    692\u001b[0m                 \u001b[1;32mraise\u001b[0m \u001b[0mvalue\u001b[0m\u001b[1;33m.\u001b[0m\u001b[0mwith_traceback\u001b[0m\u001b[1;33m(\u001b[0m\u001b[0mtb\u001b[0m\u001b[1;33m)\u001b[0m\u001b[1;33m\u001b[0m\u001b[0m\n\u001b[1;32m--> 693\u001b[1;33m             \u001b[1;32mraise\u001b[0m \u001b[0mvalue\u001b[0m\u001b[1;33m\u001b[0m\u001b[0m\n\u001b[0m\u001b[0;32m    694\u001b[0m         \u001b[1;32mfinally\u001b[0m\u001b[1;33m:\u001b[0m\u001b[1;33m\u001b[0m\u001b[0m\n\u001b[0;32m    695\u001b[0m             \u001b[0mvalue\u001b[0m \u001b[1;33m=\u001b[0m \u001b[1;32mNone\u001b[0m\u001b[1;33m\u001b[0m\u001b[0m\n",
      "\u001b[1;32m~\\Anaconda3\\lib\\site-packages\\retrying.py\u001b[0m in \u001b[0;36mcall\u001b[1;34m(self, fn, *args, **kwargs)\u001b[0m\n\u001b[0;32m    198\u001b[0m         \u001b[1;32mwhile\u001b[0m \u001b[1;32mTrue\u001b[0m\u001b[1;33m:\u001b[0m\u001b[1;33m\u001b[0m\u001b[0m\n\u001b[0;32m    199\u001b[0m             \u001b[1;32mtry\u001b[0m\u001b[1;33m:\u001b[0m\u001b[1;33m\u001b[0m\u001b[0m\n\u001b[1;32m--> 200\u001b[1;33m                 \u001b[0mattempt\u001b[0m \u001b[1;33m=\u001b[0m \u001b[0mAttempt\u001b[0m\u001b[1;33m(\u001b[0m\u001b[0mfn\u001b[0m\u001b[1;33m(\u001b[0m\u001b[1;33m*\u001b[0m\u001b[0margs\u001b[0m\u001b[1;33m,\u001b[0m \u001b[1;33m**\u001b[0m\u001b[0mkwargs\u001b[0m\u001b[1;33m)\u001b[0m\u001b[1;33m,\u001b[0m \u001b[0mattempt_number\u001b[0m\u001b[1;33m,\u001b[0m \u001b[1;32mFalse\u001b[0m\u001b[1;33m)\u001b[0m\u001b[1;33m\u001b[0m\u001b[0m\n\u001b[0m\u001b[0;32m    201\u001b[0m             \u001b[1;32mexcept\u001b[0m\u001b[1;33m:\u001b[0m\u001b[1;33m\u001b[0m\u001b[0m\n\u001b[0;32m    202\u001b[0m                 \u001b[0mtb\u001b[0m \u001b[1;33m=\u001b[0m \u001b[0msys\u001b[0m\u001b[1;33m.\u001b[0m\u001b[0mexc_info\u001b[0m\u001b[1;33m(\u001b[0m\u001b[1;33m)\u001b[0m\u001b[1;33m\u001b[0m\u001b[0m\n",
      "\u001b[1;32m~\\Anaconda3\\lib\\site-packages\\plotly\\api\\v2\\utils.py\u001b[0m in \u001b[0;36mrequest\u001b[1;34m(method, url, **kwargs)\u001b[0m\n\u001b[0;32m    153\u001b[0m         \u001b[0mcontent\u001b[0m \u001b[1;33m=\u001b[0m \u001b[0mresponse\u001b[0m\u001b[1;33m.\u001b[0m\u001b[0mcontent\u001b[0m \u001b[1;32mif\u001b[0m \u001b[0mresponse\u001b[0m \u001b[1;32melse\u001b[0m \u001b[1;34m'No content'\u001b[0m\u001b[1;33m\u001b[0m\u001b[0m\n\u001b[0;32m    154\u001b[0m         \u001b[1;32mraise\u001b[0m \u001b[0mexceptions\u001b[0m\u001b[1;33m.\u001b[0m\u001b[0mPlotlyRequestError\u001b[0m\u001b[1;33m(\u001b[0m\u001b[0mmessage\u001b[0m\u001b[1;33m,\u001b[0m \u001b[0mstatus_code\u001b[0m\u001b[1;33m,\u001b[0m \u001b[0mcontent\u001b[0m\u001b[1;33m)\u001b[0m\u001b[1;33m\u001b[0m\u001b[0m\n\u001b[1;32m--> 155\u001b[1;33m     \u001b[0mvalidate_response\u001b[0m\u001b[1;33m(\u001b[0m\u001b[0mresponse\u001b[0m\u001b[1;33m)\u001b[0m\u001b[1;33m\u001b[0m\u001b[0m\n\u001b[0m\u001b[0;32m    156\u001b[0m     \u001b[1;32mreturn\u001b[0m \u001b[0mresponse\u001b[0m\u001b[1;33m\u001b[0m\u001b[0m\n",
      "\u001b[1;32m~\\Anaconda3\\lib\\site-packages\\plotly\\api\\v2\\utils.py\u001b[0m in \u001b[0;36mvalidate_response\u001b[1;34m(response)\u001b[0m\n\u001b[0;32m     77\u001b[0m         \u001b[0mmessage\u001b[0m \u001b[1;33m=\u001b[0m \u001b[0mcontent\u001b[0m \u001b[1;32mif\u001b[0m \u001b[0mcontent\u001b[0m \u001b[1;32melse\u001b[0m \u001b[1;34m'No Content'\u001b[0m\u001b[1;33m\u001b[0m\u001b[0m\n\u001b[0;32m     78\u001b[0m \u001b[1;33m\u001b[0m\u001b[0m\n\u001b[1;32m---> 79\u001b[1;33m     \u001b[1;32mraise\u001b[0m \u001b[0mexceptions\u001b[0m\u001b[1;33m.\u001b[0m\u001b[0mPlotlyRequestError\u001b[0m\u001b[1;33m(\u001b[0m\u001b[0mmessage\u001b[0m\u001b[1;33m,\u001b[0m \u001b[0mstatus_code\u001b[0m\u001b[1;33m,\u001b[0m \u001b[0mcontent\u001b[0m\u001b[1;33m)\u001b[0m\u001b[1;33m\u001b[0m\u001b[0m\n\u001b[0m\u001b[0;32m     80\u001b[0m \u001b[1;33m\u001b[0m\u001b[0m\n\u001b[0;32m     81\u001b[0m \u001b[1;33m\u001b[0m\u001b[0m\n",
      "\u001b[1;31mPlotlyRequestError\u001b[0m: Figure field is invalid. Reason: Raw data arrays are not allowed at this endpoint. Use grid references instead. Raw data found at the following paths in the figure [('data', 0, u'x'), ('data', 0, u'y')]"
     ]
    }
   ],
   "source": [
    "grid = Grid(lista.values())\n",
    "py.grid_ops.upload(grid,'testing_points'+str(time.time()),auto_open=False)\n",
    "\n",
    "# create figure\n",
    "trace = go.Scatter(\n",
    "    x = vectores[:,0],\n",
    "    y = vectores[:,1],\n",
    "    mode = 'markers')\n",
    "\n",
    "figure = {\n",
    "    'data': [\n",
    "        {\n",
    "            'xsrc': grid.get_column_reference(coordenadas[0][0]),\n",
    "            'ysrc': grid.get_column_reference(coordenadas[0][1]),\n",
    "            'x':vectores[:,0],\n",
    "            'y':vectores[:,1],\n",
    "            'mode': 'markers',\n",
    "            'marker': {'color': '#48186a', 'size': 10}\n",
    "        }\n",
    "    ],\n",
    "    'layout': {'title': 'Growing Circles',\n",
    "               'xaxis': {'range': [2, 10], 'autorange': False},\n",
    "               'yaxis': {'range': [-10, 30], 'autorange': False},\n",
    "               'updatemenus': [{\n",
    "                   'buttons': [\n",
    "                       {'args': [None],\n",
    "                        'label': 'Play',\n",
    "                        'method': 'animate'}\n",
    "               ],\n",
    "               'pad': {'r': 10, 't': 87},\n",
    "               'showactive': False,\n",
    "               'type': 'buttons'\n",
    "                }]},\n",
    "    'frames': [\n",
    "        {\n",
    "            'data': [\n",
    "                {\n",
    "                    'xsrc': grid.get_column_reference(coordenadas[1][0]),\n",
    "                    'ysrc': grid.get_column_reference(coordenadas[1][1]),\n",
    "                    'mode': 'markers',\n",
    "                    'marker': {'color': '#3b528b', 'size': 10}\n",
    "                }\n",
    "            ]\n",
    "        },\n",
    "        {\n",
    "            'data': [\n",
    "                {\n",
    "                    'xsrc': grid.get_column_reference(coordenadas[2][0]),\n",
    "                    'ysrc': grid.get_column_reference(coordenadas[2][1]),\n",
    "                    'mode': 'markers',\n",
    "                    'marker': {'color': '#26828e', 'size': 10}\n",
    "                }\n",
    "            ]\n",
    "        },\n",
    "        {\n",
    "            'data': [\n",
    "                {\n",
    "                    'xsrc': grid.get_column_reference(coordenadas[3][0]),\n",
    "                    'ysrc': grid.get_column_reference(coordenadas[3][1]),\n",
    "                    'mode': 'markers',\n",
    "                    'marker': {'color': '#5ec962', 'size': 10}\n",
    "                }\n",
    "            ]\n",
    "        },\n",
    "        {\n",
    "            'data': [\n",
    "                {\n",
    "                    'xsrc': grid.get_column_reference(coordenadas[4][0]),\n",
    "                    'ysrc': grid.get_column_reference(coordenadas[4][1]),\n",
    "                    'mode': 'markers',\n",
    "                    'marker': {'color': '#d8e219', 'size': 10}\n",
    "                }\n",
    "            ]\n",
    "        },\n",
    "        {\n",
    "            'data': [\n",
    "                {\n",
    "                    'xsrc': grid.get_column_reference(coordenadas[5][0]),\n",
    "                    'ysrc': grid.get_column_reference(coordenadas[5][1]),\n",
    "                    'mode': 'markers',\n",
    "                    'marker': {'color': '#d8e219', 'size': 10}\n",
    "                }\n",
    "            ]\n",
    "        },\n",
    "        {\n",
    "            'data': [\n",
    "                {\n",
    "                    'xsrc': grid.get_column_reference(coordenadas[6][0]),\n",
    "                    'ysrc': grid.get_column_reference(coordenadas[6][1]),\n",
    "                    'mode': 'markers',\n",
    "                    'marker': {'color': '#d8e219', 'size': 10}\n",
    "                }\n",
    "            ]\n",
    "        },\n",
    "        {\n",
    "            'data': [\n",
    "                {\n",
    "                    'xsrc': grid.get_column_reference(coordenadas[7][0]),\n",
    "                    'ysrc': grid.get_column_reference(coordenadas[7][1]),\n",
    "                    'mode': 'markers',\n",
    "                    'marker': {'color': '#d8e219', 'size': 10}\n",
    "                }\n",
    "            ]\n",
    "        },\n",
    "        {\n",
    "            'data': [\n",
    "                {\n",
    "                    'xsrc': grid.get_column_reference(coordenadas[8][0]),\n",
    "                    'ysrc': grid.get_column_reference(coordenadas[8][1]),\n",
    "                    'mode': 'markers',\n",
    "                    'marker': {'color': '#d8e219', 'size': 10}\n",
    "                }\n",
    "            ]\n",
    "        }\n",
    "        \n",
    "    ]\n",
    "}\n",
    "datos = [trace]\n",
    "py.icreate_animations(figure, 'points_changing_size'+str(time.time()))\n",
    "#py.iplot(datos, filename='basic-scatter')"
   ]
  },
  {
   "cell_type": "code",
   "execution_count": 37,
   "metadata": {},
   "outputs": [
    {
     "data": {
      "text/html": [
       "<iframe id=\"igraph\" scrolling=\"no\" style=\"border:none;\" seamless=\"seamless\" src=\"https://plot.ly/~mscandizzo/847.embed\" height=\"525px\" width=\"100%\"></iframe>"
      ],
      "text/plain": [
       "<plotly.tools.PlotlyDisplay object>"
      ]
     },
     "execution_count": 37,
     "metadata": {},
     "output_type": "execute_result"
    }
   ],
   "source": [
    "trace = go.Scatter(\n",
    "    x = vectores[:,0],\n",
    "    y = vectores[:,1],\n",
    "    mode = 'markers')\n",
    "data = [trace]\n",
    "py.iplot(data, filename='basic-scatter')"
   ]
  },
  {
   "cell_type": "code",
   "execution_count": null,
   "metadata": {},
   "outputs": [],
   "source": [
    "{\n",
    "            'data': [\n",
    "                {\n",
    "                    'xsrc': grid.get_column_reference(coordenadas[9][0]),\n",
    "                    'ysrc': grid.get_column_reference(coordenadas[9][1]),\n",
    "                    'mode': 'markers',\n",
    "                    'marker': {'color': '#d8e219', 'size': 10}\n",
    "                }\n",
    "            ]\n",
    "        },\n",
    "        {\n",
    "            'data': [\n",
    "                {\n",
    "                    'xsrc': grid.get_column_reference(coordenadas[10][0]),\n",
    "                    'ysrc': grid.get_column_reference(coordenadas[10][1]),\n",
    "                    'mode': 'markers',\n",
    "                    'marker': {'color': '#d8e219', 'size': 10}\n",
    "                }\n",
    "            ]\n",
    "        },\n",
    "        {\n",
    "            'data': [\n",
    "                {\n",
    "                    'xsrc': grid.get_column_reference(coordenadas[11][0]),\n",
    "                    'ysrc': grid.get_column_reference(coordenadas[11][1]),\n",
    "                    'mode': 'markers',\n",
    "                    'marker': {'color': '#d8e219', 'size': 10}\n",
    "                }\n",
    "            ]\n",
    "        },\n",
    "        {\n",
    "            'data': [\n",
    "                {\n",
    "                    'xsrc': grid.get_column_reference(coordenadas[12][0]),\n",
    "                    'ysrc': grid.get_column_reference(coordenadas[12][1]),\n",
    "                    'mode': 'markers',\n",
    "                    'marker': {'color': '#d8e219', 'size': 10}\n",
    "                }\n",
    "            ]\n",
    "        },\n",
    "        {\n",
    "            'data': [\n",
    "                {\n",
    "                    'xsrc': grid.get_column_reference(coordenadas[13][0]),\n",
    "                    'ysrc': grid.get_column_reference(coordenadas[13][1]),\n",
    "                    'mode': 'markers',\n",
    "                    'marker': {'color': '#d8e219', 'size': 10}\n",
    "                }\n",
    "            ]\n",
    "        },\n",
    "        {\n",
    "            'data': [\n",
    "                {\n",
    "                    'xsrc': grid.get_column_reference(coordenadas[14][0]),\n",
    "                    'ysrc': grid.get_column_reference(coordenadas[14][1]),\n",
    "                    'mode': 'markers',\n",
    "                    'marker': {'color': '#d8e219', 'size': 10}\n",
    "                }\n",
    "            ]\n",
    "        }"
   ]
  },
  {
   "cell_type": "code",
   "execution_count": null,
   "metadata": {},
   "outputs": [],
   "source": [
    "gridi.get_column_reference(coordenadas[1][0])"
   ]
  },
  {
   "cell_type": "code",
   "execution_count": 1,
   "metadata": {},
   "outputs": [],
   "source": [
    "import plotly.plotly as py\n",
    "from plotly.offline import init_notebook_mode, iplot\n",
    "from IPython.display import display, HTML\n",
    "import matplotlib.pyplot as plt\n",
    "\n",
    "\n",
    "py.sign_in('mscandizzo', 'QA6ByvcoBJcWk7H0NAUi')\n",
    "\n",
    "import centroids as ct"
   ]
  },
  {
   "cell_type": "code",
   "execution_count": 6,
   "metadata": {},
   "outputs": [],
   "source": [
    "vectores, colores , k = ct.create_sample()"
   ]
  },
  {
   "cell_type": "code",
   "execution_count": 7,
   "metadata": {},
   "outputs": [],
   "source": [
    "centros = ct.get_random_centroids(vectores,k)"
   ]
  },
  {
   "cell_type": "code",
   "execution_count": 8,
   "metadata": {},
   "outputs": [
    {
     "name": "stdout",
     "output_type": "stream",
     "text": [
      "[[12.14856679  7.20337078]\n",
      " [11.69467759 11.17119087]\n",
      " [11.36573669 24.88173331]]\n",
      "[[ 4.5763884  -0.94853538]\n",
      " [ 7.5630765  13.11822952]\n",
      " [ 9.27386986 23.21830471]]\n",
      "[[ 3.72943442 -2.45155705]\n",
      " [ 7.65845354 11.70657067]\n",
      " [10.27675153 23.40410243]]\n",
      "[[ 3.35604014 -3.30704181]\n",
      " [ 7.57917019 10.75340989]\n",
      " [10.1703879  23.28609694]]\n",
      "[[ 3.21369633 -3.97665642]\n",
      " [ 7.34398249 10.05787173]\n",
      " [10.03831502 22.88842532]]\n",
      "[[ 3.13350968 -4.56141208]\n",
      " [ 6.94609709  9.10445419]\n",
      " [ 9.96934197 21.71106096]]\n",
      "[[ 2.87000567 -4.90594441]\n",
      " [ 6.8686596   8.1530331 ]\n",
      " [ 9.70635801 20.71020777]]\n",
      "[[ 2.79435073 -5.37028264]\n",
      " [ 6.70279199  7.51634851]\n",
      " [ 9.51347443 20.34081307]]\n",
      "[[ 2.71331394 -5.95048051]\n",
      " [ 6.51969065  6.87913259]\n",
      " [ 9.32649573 19.94917919]]\n",
      "[[ 2.74474024 -6.19293291]\n",
      " [ 6.39908834  6.59133077]\n",
      " [ 9.23218137 19.71751483]]\n",
      "[[ 2.55720806 -6.70656358]\n",
      " [ 6.33072291  6.20423154]\n",
      " [ 9.19500083 19.64082034]]\n",
      "[[ 2.50000151 -6.94801279]\n",
      " [ 6.28316675  6.06955525]\n",
      " [ 9.19500083 19.64082034]]\n",
      "[[ 2.50879789 -7.30876999]\n",
      " [ 6.17085206  5.90494748]\n",
      " [ 9.19500083 19.64082034]]\n",
      "[[ 2.53759911 -7.5041158 ]\n",
      " [ 6.10392476  5.8266925 ]\n",
      " [ 9.19500083 19.64082034]]\n",
      "[[ 2.41618735 -7.75819933]\n",
      " [ 6.0386757   5.64419281]\n",
      " [ 9.25471261 19.53722244]]\n",
      "[[ 2.30940742 -7.92897808]\n",
      " [ 5.99631631  5.50528732]\n",
      " [ 9.29814954 19.43906485]]\n",
      "[[ 2.13896425 -8.08760642]\n",
      " [ 5.987115    5.25359088]\n",
      " [ 9.25239167 19.1901212 ]]\n",
      "[[ 2.15309322 -8.41667356]\n",
      " [ 5.85329923  5.04200104]\n",
      " [ 9.25822104 19.02002853]]\n",
      "[[ 2.23035197 -8.66091126]\n",
      " [ 5.68565439  4.83112832]\n",
      " [ 9.27613393 18.77109369]]\n",
      "[[ 2.17559267 -8.7599142 ]\n",
      " [ 5.57523687  4.70682862]\n",
      " [ 9.37309234 18.58386707]]\n",
      "[[ 2.17559267 -8.7599142 ]\n",
      " [ 5.57523687  4.70682862]\n",
      " [ 9.37309234 18.58386707]]\n"
     ]
    }
   ],
   "source": [
    "movimiento = ct.looping_centroids(vectores, centros)"
   ]
  },
  {
   "cell_type": "code",
   "execution_count": 32,
   "metadata": {},
   "outputs": [
    {
     "data": {
      "text/html": [
       "<script>requirejs.config({paths: { 'plotly': ['https://cdn.plot.ly/plotly-latest.min']},});if(!window.Plotly) {{require(['plotly'],function(plotly) {window.Plotly=plotly;});}}</script>"
      ],
      "text/vnd.plotly.v1+html": [
       "<script>requirejs.config({paths: { 'plotly': ['https://cdn.plot.ly/plotly-latest.min']},});if(!window.Plotly) {{require(['plotly'],function(plotly) {window.Plotly=plotly;});}}</script>"
      ]
     },
     "metadata": {},
     "output_type": "display_data"
    },
    {
     "data": {
      "text/html": [
       "<iframe id=\"igraph\" scrolling=\"no\" style=\"border:none;\" seamless=\"seamless\" src=\"https://plot.ly/~mscandizzo/890.embed\" height=\"525px\" width=\"100%\"></iframe>"
      ],
      "text/plain": [
       "<plotly.tools.PlotlyDisplay object>"
      ]
     },
     "execution_count": 32,
     "metadata": {},
     "output_type": "execute_result"
    }
   ],
   "source": [
    "init_notebook_mode(connected=True)\n",
    "\n",
    "\n",
    "data=[dict( x = vectores[:,0],\n",
    "            y = vectores[:,1],\n",
    "            mode='markers', \n",
    "           line=dict(width=2, color='blue')\n",
    "          )]\n",
    "      \n",
    "layout=dict(title='Kinematic Generation of a Planar Curve', hovermode='closest',\n",
    "            updatemenus= [{'type': 'buttons',\n",
    "                           'buttons': [{'label': 'Play',\n",
    "                                        'method': 'animate',\n",
    "                                        'args': [None]}]}])\n",
    "\n",
    "frames=[dict(data=[dict(x=[movimiento[k][:,0]], \n",
    "                        y=[movimiento[k][:,1]], \n",
    "                        mode='markers', \n",
    "                        marker=dict(color='red', size=30)\n",
    "                        )\n",
    "                  ]) for k in range(len(movimiento))]    \n",
    "\n",
    "\n",
    "\n",
    "figure1=dict(data=data , layout=layout,frames=frames)          \n",
    "py.iplot(figure1)"
   ]
  },
  {
   "cell_type": "code",
   "execution_count": null,
   "metadata": {},
   "outputs": [],
   "source": []
  }
 ],
 "metadata": {
  "kernelspec": {
   "display_name": "Python 3",
   "language": "python",
   "name": "python3"
  },
  "language_info": {
   "codemirror_mode": {
    "name": "ipython",
    "version": 3
   },
   "file_extension": ".py",
   "mimetype": "text/x-python",
   "name": "python",
   "nbconvert_exporter": "python",
   "pygments_lexer": "ipython3",
   "version": "3.6.6"
  }
 },
 "nbformat": 4,
 "nbformat_minor": 2
}
